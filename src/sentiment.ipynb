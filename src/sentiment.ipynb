{
 "cells": [
  {
   "cell_type": "code",
   "execution_count": 37,
   "metadata": {},
   "outputs": [
    {
     "name": "stdout",
     "output_type": "stream",
     "text": [
      "   rating  vote  verified   reviewTime    reviewerName  \\\n",
      "0       5     0      True  07 14, 2014           Alvey   \n",
      "1       3     0      True  06 24, 2014    Jeff A Milne   \n",
      "2       5     0      True   06 1, 2014   P. R THOMPSON   \n",
      "3       5     0      True  05 15, 2014  Earle Williams   \n",
      "4       4     0      True  03 28, 2014             JJM   \n",
      "\n",
      "                                          reviewText  \\\n",
      "0                             great read every issue   \n",
      "1  magazine great time technology magazine new st...   \n",
      "2  ive read maximum pc mpc many year article tech...   \n",
      "3  order magazine grandson then 7 go 30 wasis dep...   \n",
      "4  subscribed nook version year thoroughly enjoy ...   \n",
      "\n",
      "                                        summary  \n",
      "0                                    Five Stars  \n",
      "1                         Great While it lasted  \n",
      "2  For Both the Newbie and The Advanced PC User  \n",
      "3                                    Great Gift  \n",
      "4               Decent magazine at a good price  \n"
     ]
    },
    {
     "name": "stderr",
     "output_type": "stream",
     "text": [
      "[nltk_data] Downloading package vader_lexicon to\n",
      "[nltk_data]     /Users/frederikvincentprimdahl/nltk_data...\n",
      "[nltk_data]   Package vader_lexicon is already up-to-date!\n"
     ]
    }
   ],
   "source": [
    "import pandas as pd\n",
    "import matplotlib.pyplot as plt\n",
    "import nltk\n",
    "from nltk.sentiment.vader import SentimentIntensityAnalyzer\n",
    "nltk.download(\"vader_lexicon\")\n",
    "sentiments = SentimentIntensityAnalyzer()\n",
    "\n",
    "data = pd.read_csv(\"../data/cleaned_reviews.tsv\", sep=\"\\t\")\n",
    "print(data.head())"
   ]
  },
  {
   "cell_type": "code",
   "execution_count": 38,
   "metadata": {},
   "outputs": [
    {
     "data": {
      "image/png": "[encoded data removed]",
      "text/plain": [
       "<Figure size 720x576 with 1 Axes>"
      ]
     },
     "metadata": {},
     "output_type": "display_data"
    }
   ],
   "source": [
    "data = data.dropna()\n",
    "\n",
    "ratings = data[\"rating\"].value_counts()\n",
    "numbers = ratings.index\n",
    "quantity = ratings.values\n",
    "\n",
    "custom_colors = [\"skyblue\", \"yellowgreen\", 'tomato', \"blue\", \"red\"]\n",
    "plt.figure(figsize=(10, 8))\n",
    "plt.pie(quantity, labels=numbers, colors=custom_colors)\n",
    "central_circle = plt.Circle((0, 0), 0.5, color='white')\n",
    "fig = plt.gcf()\n",
    "fig.gca().add_artist(central_circle)\n",
    "plt.rc('font', size=12)\n",
    "plt.title(\"Ratings\", fontsize=20)\n",
    "plt.show()"
   ]
  },
  {
   "cell_type": "code",
   "execution_count": 39,
   "metadata": {},
   "outputs": [
    {
     "name": "stdout",
     "output_type": "stream",
     "text": [
      "   rating  vote  verified   reviewTime    reviewerName  \\\n",
      "0       5     0      True  07 14, 2014           Alvey   \n",
      "1       3     0      True  06 24, 2014    Jeff A Milne   \n",
      "2       5     0      True   06 1, 2014   P. R THOMPSON   \n",
      "3       5     0      True  05 15, 2014  Earle Williams   \n",
      "4       4     0      True  03 28, 2014             JJM   \n",
      "\n",
      "                                          reviewText  \\\n",
      "0                             great read every issue   \n",
      "1  magazine great time technology magazine new st...   \n",
      "2  ive read maximum pc mpc many year article tech...   \n",
      "3  order magazine grandson then 7 go 30 wasis dep...   \n",
      "4  subscribed nook version year thoroughly enjoy ...   \n",
      "\n",
      "                                        summary  Positive  Negative  Neutral  \n",
      "0                                    Five Stars     0.577     0.000    0.423  \n",
      "1                         Great While it lasted     0.380     0.076    0.543  \n",
      "2  For Both the Newbie and The Advanced PC User     0.243     0.081    0.676  \n",
      "3                                    Great Gift     0.225     0.000    0.775  \n",
      "4               Decent magazine at a good price     0.395     0.000    0.605  \n"
     ]
    }
   ],
   "source": [
    "sentiments = SentimentIntensityAnalyzer()\n",
    "\n",
    "data[\"Positive\"] = [sentiments.polarity_scores(i)[\"pos\"] for i in data[\"reviewText\"]]\n",
    "data[\"Negative\"] = [sentiments.polarity_scores(i)[\"neg\"] for i in data[\"reviewText\"]]\n",
    "data[\"Neutral\"] = [sentiments.polarity_scores(i)[\"neu\"] for i in data[\"reviewText\"]]\n",
    "print(data.head())"
   ]
  },
  {
   "cell_type": "code",
   "execution_count": 40,
   "metadata": {},
   "outputs": [
    {
     "name": "stdout",
     "output_type": "stream",
     "text": [
      "Neutral\n",
      "Score: 3573.3289999999843\n"
     ]
    }
   ],
   "source": [
    "x = sum(data[\"Positive\"])\n",
    "y = sum(data[\"Negative\"])\n",
    "z = sum(data[\"Neutral\"])\n",
    "\n",
    "def sentiment_score(a, b, c):\n",
    "    if (a>b) and (a>c):\n",
    "        print(\"Positive\")\n",
    "        print(f\"Score: {a}\")\n",
    "    elif (b>a) and (b>c):\n",
    "        print(\"Negative\")\n",
    "        print(f\"Score: {b}\")\n",
    "    else:\n",
    "        print(\"Neutral\")\n",
    "        print(f\"Score: {c}\")\n",
    "sentiment_score(x, y, z)"
   ]
  }
 ],
 "metadata": {
  "interpreter": {
   "hash": "345aa2f3f3153332aa0250f3057c4206b814c74c10594863073df44855256fe2"
  },
  "kernelspec": {
   "display_name": "Python 3.9.12 64-bit",
   "language": "python",
   "name": "python3"
  },
  "language_info": {
   "codemirror_mode": {
    "name": "ipython",
    "version": 3
   },
   "file_extension": ".py",
   "mimetype": "text/x-python",
   "name": "python",
   "nbconvert_exporter": "python",
   "pygments_lexer": "ipython3",
   "version": "3.9.12"
  },
  "orig_nbformat": 4
 },
 "nbformat": 4,
 "nbformat_minor": 2
}
