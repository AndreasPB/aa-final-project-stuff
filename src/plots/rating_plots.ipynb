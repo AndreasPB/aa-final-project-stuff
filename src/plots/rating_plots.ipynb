{
 "cells": [
  {
   "cell_type": "code",
   "execution_count": 4,
   "metadata": {},
   "outputs": [],
   "source": [
    "import pandas as pd\n",
    "import matplotlib.pyplot as plt\n"
   ]
  },
  {
   "cell_type": "code",
   "execution_count": 5,
   "metadata": {},
   "outputs": [],
   "source": [
    "EXPORT_PLOTS = False\n",
    "df = pd.read_csv(\"../../data/cleaned_reviews.tsv\", sep=\"\\t\")"
   ]
  },
  {
   "cell_type": "code",
   "execution_count": 6,
   "metadata": {},
   "outputs": [
    {
     "data": {
      "image/png": "[encoded data removed]",
      "text/plain": [
       "<Figure size 432x288 with 1 Axes>"
      ]
     },
     "metadata": {
      "needs_background": "light"
     },
     "output_type": "display_data"
    }
   ],
   "source": [
    "ax = df['rating'].value_counts().sort_index().plot(kind='bar', rot=0)\n",
    "ax.set_ylabel(\"Amount\")\n",
    "ax.set_xlabel(\"Rating\")\n",
    "ax.legend([\"Rating\"])\n",
    "if EXPORT_PLOTS:\n",
    "    plt.savefig(\"../../report/img/rating_distribution.svg\", bbox_inches=\"tight\")"
   ]
  },
  {
   "cell_type": "code",
   "execution_count": null,
   "metadata": {},
   "outputs": [],
   "source": []
  }
 ],
 "metadata": {
  "interpreter": {
   "hash": "4774a00c7f89f39a34be8a4a6da048805ddb1ca9c229a9f5ddc3e2a286ebe380"
  },
  "kernelspec": {
   "display_name": "Python 3.10.2 ('amazon-sentiment-53yd7LNS-py3.10')",
   "language": "python",
   "name": "python3"
  },
  "language_info": {
   "codemirror_mode": {
    "name": "ipython",
    "version": 3
   },
   "file_extension": ".py",
   "mimetype": "text/x-python",
   "name": "python",
   "nbconvert_exporter": "python",
   "pygments_lexer": "ipython3",
   "version": "3.10.2"
  },
  "orig_nbformat": 4
 },
 "nbformat": 4,
 "nbformat_minor": 2
}
