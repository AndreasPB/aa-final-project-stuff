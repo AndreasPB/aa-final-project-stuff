{
 "cells": [
  {
   "cell_type": "code",
   "execution_count": 22,
   "metadata": {},
   "outputs": [],
   "source": [
    "import pandas as pd\n",
    "import numpy as np\n",
    "import matplotlib.pyplot as plt"
   ]
  },
  {
   "cell_type": "code",
   "execution_count": 23,
   "metadata": {},
   "outputs": [
    {
     "data": {
      "text/html": [
       "<div>\n",
       "<style scoped>\n",
       "    .dataframe tbody tr th:only-of-type {\n",
       "        vertical-align: middle;\n",
       "    }\n",
       "\n",
       "    .dataframe tbody tr th {\n",
       "        vertical-align: top;\n",
       "    }\n",
       "\n",
       "    .dataframe thead th {\n",
       "        text-align: right;\n",
       "    }\n",
       "</style>\n",
       "<table border=\"1\" class=\"dataframe\">\n",
       "  <thead>\n",
       "    <tr style=\"text-align: right;\">\n",
       "      <th></th>\n",
       "      <th>rating</th>\n",
       "      <th>vote</th>\n",
       "      <th>verified</th>\n",
       "      <th>reviewTime</th>\n",
       "      <th>reviewerName</th>\n",
       "      <th>reviewText</th>\n",
       "      <th>summary</th>\n",
       "    </tr>\n",
       "  </thead>\n",
       "  <tbody>\n",
       "    <tr>\n",
       "      <th>0</th>\n",
       "      <td>2</td>\n",
       "      <td>3</td>\n",
       "      <td>True</td>\n",
       "      <td>06 15, 2010</td>\n",
       "      <td>D. Poston</td>\n",
       "      <td>bought two 85 fl oz hand cream neither dispens...</td>\n",
       "      <td>dispensers don't work</td>\n",
       "    </tr>\n",
       "    <tr>\n",
       "      <th>1</th>\n",
       "      <td>5</td>\n",
       "      <td>14</td>\n",
       "      <td>True</td>\n",
       "      <td>01 7, 2010</td>\n",
       "      <td>chandra</td>\n",
       "      <td>believe me year try many many different hand c...</td>\n",
       "      <td>Best hand cream ever.</td>\n",
       "    </tr>\n",
       "    <tr>\n",
       "      <th>2</th>\n",
       "      <td>5</td>\n",
       "      <td>0</td>\n",
       "      <td>True</td>\n",
       "      <td>04 18, 2018</td>\n",
       "      <td>Maureen G</td>\n",
       "      <td>great hand lotion</td>\n",
       "      <td>Five Stars</td>\n",
       "    </tr>\n",
       "    <tr>\n",
       "      <th>3</th>\n",
       "      <td>5</td>\n",
       "      <td>0</td>\n",
       "      <td>True</td>\n",
       "      <td>04 18, 2018</td>\n",
       "      <td>Terry K</td>\n",
       "      <td>best severely dry skin hand</td>\n",
       "      <td>Five Stars</td>\n",
       "    </tr>\n",
       "    <tr>\n",
       "      <th>4</th>\n",
       "      <td>5</td>\n",
       "      <td>0</td>\n",
       "      <td>True</td>\n",
       "      <td>04 17, 2018</td>\n",
       "      <td>Patricia Wood</td>\n",
       "      <td>best non oily hand cream ever heals overnight</td>\n",
       "      <td>I always have a backup ready.</td>\n",
       "    </tr>\n",
       "    <tr>\n",
       "      <th>...</th>\n",
       "      <td>...</td>\n",
       "      <td>...</td>\n",
       "      <td>...</td>\n",
       "      <td>...</td>\n",
       "      <td>...</td>\n",
       "      <td>...</td>\n",
       "      <td>...</td>\n",
       "    </tr>\n",
       "    <tr>\n",
       "      <th>591494</th>\n",
       "      <td>5</td>\n",
       "      <td>0</td>\n",
       "      <td>True</td>\n",
       "      <td>02 22, 2013</td>\n",
       "      <td>Tiffany M.</td>\n",
       "      <td>come time described far work perfectly gamecub...</td>\n",
       "      <td>works on Gamecube</td>\n",
       "    </tr>\n",
       "    <tr>\n",
       "      <th>591495</th>\n",
       "      <td>5</td>\n",
       "      <td>0</td>\n",
       "      <td>True</td>\n",
       "      <td>02 22, 2013</td>\n",
       "      <td>Ian</td>\n",
       "      <td>get tire rebeat mario kart double dash wii get...</td>\n",
       "      <td>cheap, does the job</td>\n",
       "    </tr>\n",
       "    <tr>\n",
       "      <th>591496</th>\n",
       "      <td>5</td>\n",
       "      <td>14</td>\n",
       "      <td>True</td>\n",
       "      <td>02 20, 2013</td>\n",
       "      <td>Alex Harker</td>\n",
       "      <td>product excellent ton gamecube game inexpensiv...</td>\n",
       "      <td>Inexpensive and Effective</td>\n",
       "    </tr>\n",
       "    <tr>\n",
       "      <th>591497</th>\n",
       "      <td>5</td>\n",
       "      <td>0</td>\n",
       "      <td>True</td>\n",
       "      <td>02 8, 2013</td>\n",
       "      <td>Cristina Hardwick</td>\n",
       "      <td>arrive way schedule work great need issue woul...</td>\n",
       "      <td>excellent</td>\n",
       "    </tr>\n",
       "    <tr>\n",
       "      <th>591498</th>\n",
       "      <td>5</td>\n",
       "      <td>0</td>\n",
       "      <td>True</td>\n",
       "      <td>02 6, 2013</td>\n",
       "      <td>Laura Kemper</td>\n",
       "      <td>bought gamecube memory card could play gamecub...</td>\n",
       "      <td>Got for the Wii</td>\n",
       "    </tr>\n",
       "  </tbody>\n",
       "</table>\n",
       "<p>591499 rows × 7 columns</p>\n",
       "</div>"
      ],
      "text/plain": [
       "        rating  vote  verified   reviewTime       reviewerName  \\\n",
       "0            2     3      True  06 15, 2010          D. Poston   \n",
       "1            5    14      True   01 7, 2010            chandra   \n",
       "2            5     0      True  04 18, 2018          Maureen G   \n",
       "3            5     0      True  04 18, 2018            Terry K   \n",
       "4            5     0      True  04 17, 2018      Patricia Wood   \n",
       "...        ...   ...       ...          ...                ...   \n",
       "591494       5     0      True  02 22, 2013         Tiffany M.   \n",
       "591495       5     0      True  02 22, 2013                Ian   \n",
       "591496       5    14      True  02 20, 2013        Alex Harker   \n",
       "591497       5     0      True   02 8, 2013  Cristina Hardwick   \n",
       "591498       5     0      True   02 6, 2013       Laura Kemper   \n",
       "\n",
       "                                               reviewText  \\\n",
       "0       bought two 85 fl oz hand cream neither dispens...   \n",
       "1       believe me year try many many different hand c...   \n",
       "2                                       great hand lotion   \n",
       "3                             best severely dry skin hand   \n",
       "4           best non oily hand cream ever heals overnight   \n",
       "...                                                   ...   \n",
       "591494  come time described far work perfectly gamecub...   \n",
       "591495  get tire rebeat mario kart double dash wii get...   \n",
       "591496  product excellent ton gamecube game inexpensiv...   \n",
       "591497  arrive way schedule work great need issue woul...   \n",
       "591498  bought gamecube memory card could play gamecub...   \n",
       "\n",
       "                              summary  \n",
       "0               dispensers don't work  \n",
       "1               Best hand cream ever.  \n",
       "2                          Five Stars  \n",
       "3                          Five Stars  \n",
       "4       I always have a backup ready.  \n",
       "...                               ...  \n",
       "591494              works on Gamecube  \n",
       "591495            cheap, does the job  \n",
       "591496      Inexpensive and Effective  \n",
       "591497                      excellent  \n",
       "591498                Got for the Wii  \n",
       "\n",
       "[591499 rows x 7 columns]"
      ]
     },
     "execution_count": 23,
     "metadata": {},
     "output_type": "execute_result"
    }
   ],
   "source": [
    "EXPORT_PLOTS = False\n",
    "df = pd.read_csv(\"../../data/cleaned_reviews.tsv\", sep=\"\\t\")\n",
    "df"
   ]
  },
  {
   "cell_type": "code",
   "execution_count": 24,
   "metadata": {},
   "outputs": [
    {
     "data": {
      "image/png": "[encoded data removed]",
      "text/plain": [
       "<Figure size 648x216 with 1 Axes>"
      ]
     },
     "metadata": {
      "needs_background": "light"
     },
     "output_type": "display_data"
    }
   ],
   "source": [
    "bins = list(range(0, 75, 10))\n",
    "df[\"vote\"].value_counts(bins=bins).plot(figsize=(9, 3), kind=\"bar\", rot=0)\n",
    "plt.ylabel(\"Amount of reviews\")\n",
    "plt.xlabel(\"Vote\")\n",
    "plt.legend([\"Reviews\"])\n",
    "if EXPORT_PLOTS:\n",
    "    plt.savefig(\"../../report/img/votes_binned_including_0.pdf\", bbox_inches=\"tight\")"
   ]
  },
  {
   "cell_type": "code",
   "execution_count": 25,
   "metadata": {},
   "outputs": [
    {
     "data": {
      "image/png": "[encoded data removed]",
      "text/plain": [
       "<Figure size 648x216 with 1 Axes>"
      ]
     },
     "metadata": {
      "needs_background": "light"
     },
     "output_type": "display_data"
    }
   ],
   "source": [
    "bins = list(range(1, 75, 10))\n",
    "df[\"vote\"].value_counts(bins=bins).plot(figsize=(9, 3), kind=\"bar\", rot=0)\n",
    "plt.ylabel(\"Amount of reviews\")\n",
    "plt.xlabel(\"Vote\")\n",
    "plt.legend([\"Reviews\"])\n",
    "if EXPORT_PLOTS:\n",
    "    plt.savefig(\"../../report/img/votes_binned_excluding_0.pdf\", bbox_inches=\"tight\")"
   ]
  },
  {
   "cell_type": "code",
   "execution_count": 26,
   "metadata": {},
   "outputs": [
    {
     "data": {
      "image/png": "[encoded data removed]",
      "text/plain": [
       "<Figure size 432x288 with 1 Axes>"
      ]
     },
     "metadata": {
      "needs_background": "light"
     },
     "output_type": "display_data"
    }
   ],
   "source": [
    "votes = df[\"vote\"].value_counts()\n",
    "no_votes = votes[0].sum()\n",
    "has_votes = votes[1:].sum()\n",
    "plt.bar([\"No votes\", \"Votes\"], [no_votes, has_votes])\n",
    "plt.ylabel(\"Amount of reviews\")\n",
    "plt.xlabel(\"Vote\")\n",
    "plt.legend([\"Reviews\"])\n",
    "if EXPORT_PLOTS:\n",
    "    plt.savefig(\"../../report/img/no_votes_vs_votes.pdf\", bbox_inches=\"tight\")"
   ]
  },
  {
   "cell_type": "code",
   "execution_count": 27,
   "metadata": {},
   "outputs": [
    {
     "data": {
      "text/plain": [
       "[[37255, 2483, 827, 307, 165, 116, 72],\n",
       " [8685, 559, 183, 78, 43, 36, 22],\n",
       " [5770, 429, 173, 84, 36, 21, 11],\n",
       " [4402, 356, 120, 60, 43, 12, 11],\n",
       " [10994, 967, 333, 145, 86, 75, 55]]"
      ]
     },
     "execution_count": 27,
     "metadata": {},
     "output_type": "execute_result"
    }
   ],
   "source": [
    "bins = list(range(1, 75, 10))  # [1, 11, 21, 31, 41, 51, 61, 71]\n",
    "\n",
    "\n",
    "def split_by_ratings(data: pd.DataFrame) -> list[list]:\n",
    "    split_data = []\n",
    "    for rating in range(5, 0, -1):\n",
    "        single_rating_votes = df.loc[df.rating == rating][\"vote\"]\n",
    "        binned = single_rating_votes.value_counts(bins=bins)\n",
    "        split_data.append(binned.to_list())\n",
    "    return split_data\n",
    "\n",
    "\n",
    "split_by_ratings(df)"
   ]
  },
  {
   "cell_type": "code",
   "execution_count": 35,
   "metadata": {},
   "outputs": [
    {
     "data": {
      "image/png": "[encoded data removed]",
      "text/plain": [
       "<Figure size 432x288 with 1 Axes>"
      ]
     },
     "metadata": {
      "needs_background": "light"
     },
     "output_type": "display_data"
    }
   ],
   "source": [
    "heatmap = np.array(split_by_ratings(df))\n",
    "\n",
    "bin_labels = [\n",
    "    \"[1:11]\",\n",
    "    \"[11:21]\",\n",
    "    \"[21:31]\",\n",
    "    \"[31:41]\",\n",
    "    \"[41:51]\",\n",
    "    \"[51:61]\",\n",
    "    \"[61:71]\",\n",
    "]\n",
    "rating_labels = range(5, 0, -1)\n",
    "\n",
    "fig, ax = plt.subplots()\n",
    "im = ax.imshow(heatmap)\n",
    "ax.set_yticks(range(len(rating_labels)), lables=\"rating\")\n",
    "ax.set_xticks(range(len(bin_labels)), lables=\"bins\")\n",
    "ax.set_ylabel(\"Rating\")\n",
    "ax.set_xlabel(\"Votes\")\n",
    "ax.set_xticklabels(bin_labels)\n",
    "ax.set_yticklabels(rating_labels)\n",
    "\n",
    "textcolors = (\"black\", \"white\")\n",
    "threshold = (heatmap.max()) / 2\n",
    "\n",
    "for i in range(5):\n",
    "    for j in range(len(bins) - 1):\n",
    "        text = ax.text(\n",
    "            j,\n",
    "            i,\n",
    "            heatmap[i, j],\n",
    "            ha=\"center\",\n",
    "            va=\"center\",\n",
    "            color=textcolors[int(heatmap[i, j] < threshold)],\n",
    "        )\n",
    "\n",
    "if EXPORT_PLOTS:\n",
    "    plt.savefig(\"../../report/img/rating_vote_heatmap_excluding_no_votes.pdf\")"
   ]
  },
  {
   "cell_type": "code",
   "execution_count": null,
   "metadata": {},
   "outputs": [],
   "source": []
  }
 ],
 "metadata": {
  "interpreter": {
   "hash": "4774a00c7f89f39a34be8a4a6da048805ddb1ca9c229a9f5ddc3e2a286ebe380"
  },
  "kernelspec": {
   "display_name": "Python 3.10.2 ('amazon-sentiment-53yd7LNS-py3.10')",
   "language": "python",
   "name": "python3"
  },
  "language_info": {
   "codemirror_mode": {
    "name": "ipython",
    "version": 3
   },
   "file_extension": ".py",
   "mimetype": "text/x-python",
   "name": "python",
   "nbconvert_exporter": "python",
   "pygments_lexer": "ipython3",
   "version": "3.10.2"
  },
  "orig_nbformat": 4
 },
 "nbformat": 4,
 "nbformat_minor": 2
}
