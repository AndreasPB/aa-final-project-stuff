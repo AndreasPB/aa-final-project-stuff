{
 "cells": [
  {
   "cell_type": "markdown",
   "source": [
    " # TF-IDF Vectorizer"
   ],
   "metadata": {}
  },
  {
   "cell_type": "code",
   "execution_count": 1,
   "source": [
    "import pandas as pd\n",
    "import numpy as np\n",
    "from sklearn.linear_model import LogisticRegression\n",
    "from sklearn.svm import LinearSVC\n",
    "from sklearn.feature_extraction.text import TfidfVectorizer\n",
    "from sklearn.ensemble import RandomForestClassifier\n",
    "from sklearn.model_selection import train_test_split\n",
    "from sklearn.cluster import KMeans\n",
    "\n",
    "from util import summary_report"
   ],
   "outputs": [],
   "metadata": {}
  },
  {
   "cell_type": "markdown",
   "source": [
    " ## Read the data"
   ],
   "metadata": {}
  },
  {
   "cell_type": "code",
   "execution_count": 2,
   "source": [
    "df = pd.read_csv(\"../../data/cleaned_reviews.tsv\", sep=\"\\t\")"
   ],
   "outputs": [],
   "metadata": {}
  },
  {
   "cell_type": "markdown",
   "source": [
    " ## Defining a helpful review + Splitting the data"
   ],
   "metadata": {}
  },
  {
   "cell_type": "code",
   "execution_count": 3,
   "source": [
    "split = 0.01\n",
    "\n",
    "df[\"helpful\"] = np.where(df.voteSuccess >= split, 1, 0)\n",
    "\n",
    "x_train, x_test, y_train, y_test = train_test_split(\n",
    "    df.reviewText, df.helpful, test_size=0.25, random_state=30\n",
    ")\n",
    "f\"x_train: {x_train.shape}, y_train: {y_train.shape}, x_test: {x_test.shape}, y_test: {y_test.shape}\""
   ],
   "outputs": [
    {
     "output_type": "execute_result",
     "data": {
      "text/plain": [
       "'x_train: (107391,), y_train: (107391,), x_test: (35797,), y_test: (35797,)'"
      ]
     },
     "metadata": {},
     "execution_count": 3
    }
   ],
   "metadata": {}
  },
  {
   "cell_type": "markdown",
   "source": [
    " ## Vectorization with TF-IDF"
   ],
   "metadata": {}
  },
  {
   "cell_type": "code",
   "execution_count": 4,
   "source": [
    "vectorizer = TfidfVectorizer(ngram_range=(1, 1), min_df=0.01)\n",
    "tfidf_train = vectorizer.fit_transform(x_train.values.astype(\"U\"))\n",
    "tfidf_test = vectorizer.transform(x_test.values.astype(\"U\"))"
   ],
   "outputs": [],
   "metadata": {}
  },
  {
   "cell_type": "markdown",
   "source": [
    " ## Fitting"
   ],
   "metadata": {}
  },
  {
   "cell_type": "markdown",
   "source": [
    " ## Support-Vector Machine"
   ],
   "metadata": {}
  },
  {
   "cell_type": "code",
   "execution_count": 5,
   "source": [
    "clf = LinearSVC(random_state=0, max_iter=5000)\n",
    "\n",
    "clf.fit(tfidf_train, y_train)\n",
    "y_test_pred = clf.predict(tfidf_test)"
   ],
   "outputs": [],
   "metadata": {}
  },
  {
   "cell_type": "code",
   "execution_count": 6,
   "source": [
    "summary_report(y_test, y_test_pred, \"Document-term Matrix(TF-IDF Vectorizer) - SVM/SVC\")"
   ],
   "outputs": [
    {
     "output_type": "stream",
     "name": "stdout",
     "text": [
      "Document-term Matrix(TF-IDF Vectorizer) - SVM/SVC\n",
      "              precision    recall  f1-score   support\n",
      "\n",
      "   Unhelpful       0.87      0.99      0.93     30717\n",
      "     Helpful       0.65      0.07      0.12      5080\n",
      "\n",
      "    accuracy                           0.86     35797\n",
      "   macro avg       0.76      0.53      0.52     35797\n",
      "weighted avg       0.84      0.86      0.81     35797\n",
      " \n",
      "Balanced acc score:  0.53053 \n",
      "Balanced acc score(luck adjusted):  0.06107\n",
      "Youden Index:  0.06107\n"
     ]
    },
    {
     "output_type": "display_data",
     "data": {
      "image/png": "[encoded data removed]",
      "text/plain": [
       "<Figure size 432x288 with 2 Axes>"
      ]
     },
     "metadata": {
      "needs_background": "light"
     }
    }
   ],
   "metadata": {}
  },
  {
   "cell_type": "markdown",
   "source": [
    " ## RandomForestClassifier"
   ],
   "metadata": {}
  },
  {
   "cell_type": "code",
   "execution_count": 7,
   "source": [
    "rfc = RandomForestClassifier(\n",
    "    n_estimators=150, max_depth=150, random_state=0, n_jobs=-1, verbose=True\n",
    ")\n",
    "rfc.fit(tfidf_train, y_train)\n",
    "y_test_pred = rfc.predict(tfidf_test)"
   ],
   "outputs": [
    {
     "output_type": "stream",
     "name": "stderr",
     "text": [
      "[Parallel(n_jobs=-1)]: Using backend ThreadingBackend with 8 concurrent workers.\n",
      "[Parallel(n_jobs=-1)]: Done  34 tasks      | elapsed:   20.5s\n",
      "[Parallel(n_jobs=-1)]: Done 150 out of 150 | elapsed:  1.2min finished\n",
      "[Parallel(n_jobs=8)]: Using backend ThreadingBackend with 8 concurrent workers.\n",
      "[Parallel(n_jobs=8)]: Done  34 tasks      | elapsed:    0.1s\n",
      "[Parallel(n_jobs=8)]: Done 150 out of 150 | elapsed:    0.3s finished\n"
     ]
    }
   ],
   "metadata": {}
  },
  {
   "cell_type": "code",
   "execution_count": 8,
   "source": [
    "summary_report(\n",
    "    y_test,\n",
    "    y_test_pred,\n",
    "    \"Document-term Matrix(TF-IDF Vectorizer) - RandomForestClassifier\",\n",
    ")"
   ],
   "outputs": [
    {
     "output_type": "stream",
     "name": "stdout",
     "text": [
      "Document-term Matrix(TF-IDF Vectorizer) - RandomForestClassifier\n",
      "              precision    recall  f1-score   support\n",
      "\n",
      "   Unhelpful       0.87      0.99      0.92     30717\n",
      "     Helpful       0.59      0.08      0.14      5080\n",
      "\n",
      "    accuracy                           0.86     35797\n",
      "   macro avg       0.73      0.54      0.53     35797\n",
      "weighted avg       0.83      0.86      0.81     35797\n",
      " \n",
      "Balanced acc score:  0.53603 \n",
      "Balanced acc score(luck adjusted):  0.07205\n",
      "Youden Index:  0.07205\n"
     ]
    },
    {
     "output_type": "display_data",
     "data": {
      "image/png": "[encoded data removed]",
      "text/plain": [
       "<Figure size 432x288 with 2 Axes>"
      ]
     },
     "metadata": {
      "needs_background": "light"
     }
    }
   ],
   "metadata": {}
  },
  {
   "cell_type": "markdown",
   "source": [
    " ## LogisticRegression"
   ],
   "metadata": {}
  },
  {
   "cell_type": "code",
   "execution_count": 9,
   "source": [
    "lgr = LogisticRegression(random_state=0, max_iter=10000)\n",
    "lgr.fit(tfidf_train, y_train)\n",
    "y_test_pred = lgr.predict(tfidf_test)"
   ],
   "outputs": [],
   "metadata": {}
  },
  {
   "cell_type": "code",
   "execution_count": 10,
   "source": [
    "summary_report(\n",
    "    y_test, y_test_pred, \"Document-term Matrix(TF-IDF Vectorizer) - LogisticRegression\"\n",
    ")"
   ],
   "outputs": [
    {
     "output_type": "stream",
     "name": "stdout",
     "text": [
      "Document-term Matrix(TF-IDF Vectorizer) - LogisticRegression\n",
      "              precision    recall  f1-score   support\n",
      "\n",
      "   Unhelpful       0.87      0.98      0.93     30717\n",
      "     Helpful       0.60      0.14      0.23      5080\n",
      "\n",
      "    accuracy                           0.86     35797\n",
      "   macro avg       0.74      0.56      0.58     35797\n",
      "weighted avg       0.84      0.86      0.83     35797\n",
      " \n",
      "Balanced acc score:  0.56172 \n",
      "Balanced acc score(luck adjusted):  0.12344\n",
      "Youden Index:  0.12344\n"
     ]
    },
    {
     "output_type": "display_data",
     "data": {
      "image/png": "[encoded data removed]",
      "text/plain": [
       "<Figure size 432x288 with 2 Axes>"
      ]
     },
     "metadata": {
      "needs_background": "light"
     }
    }
   ],
   "metadata": {}
  },
  {
   "cell_type": "markdown",
   "source": [
    " # Neural Network"
   ],
   "metadata": {}
  },
  {
   "cell_type": "code",
   "execution_count": 11,
   "source": [
    "from sklearn.neural_network import MLPClassifier\n",
    "\n",
    "# Using lbfgs over adam as it is much faster on smaller datasets(1min vs 6min(42k samples on M1 macbook air))\n",
    "clf = MLPClassifier(\n",
    "    solver=\"lbfgs\", alpha=1e-5, hidden_layer_sizes=(100,), max_iter=1000, random_state=1\n",
    ")\n",
    "\n",
    "clf.fit(tfidf_train, y_train)\n",
    "y_test_pred = clf.predict(tfidf_test)"
   ],
   "outputs": [
    {
     "output_type": "stream",
     "name": "stderr",
     "text": [
      "/home/nullxdeadbeef/.cache/pypoetry/virtualenvs/amazon-sentiment-jA8IenIW-py3.10/lib/python3.10/site-packages/sklearn/neural_network/_multilayer_perceptron.py:559: ConvergenceWarning: lbfgs failed to converge (status=1):\n",
      "STOP: TOTAL NO. of ITERATIONS REACHED LIMIT.\n",
      "\n",
      "Increase the number of iterations (max_iter) or scale the data as shown in:\n",
      "    https://scikit-learn.org/stable/modules/preprocessing.html\n",
      "  self.n_iter_ = _check_optimize_result(\"lbfgs\", opt_res, self.max_iter)\n"
     ]
    }
   ],
   "metadata": {}
  },
  {
   "cell_type": "code",
   "execution_count": 12,
   "source": [
    "summary_report(y_test, y_test_pred, \"MLPClassifier\")"
   ],
   "outputs": [
    {
     "output_type": "stream",
     "name": "stdout",
     "text": [
      "MLPClassifier\n",
      "              precision    recall  f1-score   support\n",
      "\n",
      "   Unhelpful       0.88      0.89      0.89     30717\n",
      "     Helpful       0.31      0.29      0.30      5080\n",
      "\n",
      "    accuracy                           0.81     35797\n",
      "   macro avg       0.59      0.59      0.59     35797\n",
      "weighted avg       0.80      0.81      0.80     35797\n",
      " \n",
      "Balanced acc score:  0.59058 \n",
      "Balanced acc score(luck adjusted):  0.18117\n",
      "Youden Index:  0.18117\n"
     ]
    },
    {
     "output_type": "display_data",
     "data": {
      "image/png": "[encoded data removed]",
      "text/plain": [
       "<Figure size 432x288 with 2 Axes>"
      ]
     },
     "metadata": {
      "needs_background": "light"
     }
    }
   ],
   "metadata": {}
  },
  {
   "cell_type": "markdown",
   "source": [
    " # KMeans clustering"
   ],
   "metadata": {}
  },
  {
   "cell_type": "code",
   "execution_count": 13,
   "source": [
    "clf = KMeans(n_clusters=2, init=\"k-means++\", max_iter=100, n_init=5, random_state=5)\n",
    "\n",
    "clf.fit(tfidf_train, y_train)\n",
    "y_test_pred = clf.predict(tfidf_test)\n",
    "\n",
    "summary_report(y_test, y_test_pred, \"MLPClassifier\")"
   ],
   "outputs": [
    {
     "output_type": "stream",
     "name": "stdout",
     "text": [
      "MLPClassifier\n",
      "              precision    recall  f1-score   support\n",
      "\n",
      "   Unhelpful       0.85      0.89      0.87     30717\n",
      "     Helpful       0.05      0.03      0.04      5080\n",
      "\n",
      "    accuracy                           0.77     35797\n",
      "   macro avg       0.45      0.46      0.45     35797\n",
      "weighted avg       0.73      0.77      0.75     35797\n",
      " \n",
      "Balanced acc score:  0.45956 \n",
      "Balanced acc score(luck adjusted):  -0.08088\n",
      "Youden Index:  -0.08088\n"
     ]
    },
    {
     "output_type": "display_data",
     "data": {
      "image/png": "[encoded data removed]",
      "text/plain": [
       "<Figure size 432x288 with 2 Axes>"
      ]
     },
     "metadata": {
      "needs_background": "light"
     }
    }
   ],
   "metadata": {}
  }
 ],
 "nbformat": 4,
 "nbformat_minor": 2,
 "metadata": {
  "language_info": {
   "codemirror_mode": {
    "name": "ipython",
    "version": 3
   },
   "file_extension": ".py",
   "mimetype": "text/x-python",
   "name": "python",
   "nbconvert_exporter": "python",
   "pygments_lexer": "ipython3",
   "version": 3
  },
  "orig_nbformat": 4
 }
}