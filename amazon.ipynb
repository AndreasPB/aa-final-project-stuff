{
 "cells": [
  {
   "cell_type": "code",
   "execution_count": 1,
   "metadata": {},
   "outputs": [],
   "source": [
    "import pandas as pd"
   ]
  },
  {
   "cell_type": "code",
   "execution_count": 2,
   "metadata": {},
   "outputs": [],
   "source": [
    "df = pd.read_csv(\"data/cleaned_reviews.tsv\", sep=\"\\t\")"
   ]
  },
  {
   "cell_type": "code",
   "execution_count": 3,
   "metadata": {},
   "outputs": [
    {
     "data": {
      "text/html": [
       "<div>\n",
       "<style scoped>\n",
       "    .dataframe tbody tr th:only-of-type {\n",
       "        vertical-align: middle;\n",
       "    }\n",
       "\n",
       "    .dataframe tbody tr th {\n",
       "        vertical-align: top;\n",
       "    }\n",
       "\n",
       "    .dataframe thead th {\n",
       "        text-align: right;\n",
       "    }\n",
       "</style>\n",
       "<table border=\"1\" class=\"dataframe\">\n",
       "  <thead>\n",
       "    <tr style=\"text-align: right;\">\n",
       "      <th></th>\n",
       "      <th>rating</th>\n",
       "      <th>vote</th>\n",
       "      <th>verified</th>\n",
       "      <th>reviewTime</th>\n",
       "      <th>reviewerName</th>\n",
       "      <th>reviewText</th>\n",
       "      <th>summary</th>\n",
       "    </tr>\n",
       "  </thead>\n",
       "  <tbody>\n",
       "    <tr>\n",
       "      <th>0</th>\n",
       "      <td>5</td>\n",
       "      <td>0</td>\n",
       "      <td>True</td>\n",
       "      <td>07 14, 2014</td>\n",
       "      <td>Alvey</td>\n",
       "      <td>great read every issue</td>\n",
       "      <td>Five Stars</td>\n",
       "    </tr>\n",
       "    <tr>\n",
       "      <th>1</th>\n",
       "      <td>3</td>\n",
       "      <td>0</td>\n",
       "      <td>True</td>\n",
       "      <td>06 24, 2014</td>\n",
       "      <td>Jeff A Milne</td>\n",
       "      <td>magazine great time technology magazine new st...</td>\n",
       "      <td>Great While it lasted</td>\n",
       "    </tr>\n",
       "    <tr>\n",
       "      <th>2</th>\n",
       "      <td>5</td>\n",
       "      <td>0</td>\n",
       "      <td>True</td>\n",
       "      <td>06 1, 2014</td>\n",
       "      <td>P. R THOMPSON</td>\n",
       "      <td>ive read maximum pc mpc many year article tech...</td>\n",
       "      <td>For Both the Newbie and The Advanced PC User</td>\n",
       "    </tr>\n",
       "    <tr>\n",
       "      <th>3</th>\n",
       "      <td>5</td>\n",
       "      <td>0</td>\n",
       "      <td>True</td>\n",
       "      <td>05 15, 2014</td>\n",
       "      <td>Earle Williams</td>\n",
       "      <td>order magazine grandson then 7 go 30 wasis dep...</td>\n",
       "      <td>Great Gift</td>\n",
       "    </tr>\n",
       "    <tr>\n",
       "      <th>4</th>\n",
       "      <td>4</td>\n",
       "      <td>0</td>\n",
       "      <td>True</td>\n",
       "      <td>03 28, 2014</td>\n",
       "      <td>JJM</td>\n",
       "      <td>subscribed nook version year thoroughly enjoy ...</td>\n",
       "      <td>Decent magazine at a good price</td>\n",
       "    </tr>\n",
       "  </tbody>\n",
       "</table>\n",
       "</div>"
      ],
      "text/plain": [
       "   rating  vote  verified   reviewTime    reviewerName  \\\n",
       "0       5     0      True  07 14, 2014           Alvey   \n",
       "1       3     0      True  06 24, 2014    Jeff A Milne   \n",
       "2       5     0      True   06 1, 2014   P. R THOMPSON   \n",
       "3       5     0      True  05 15, 2014  Earle Williams   \n",
       "4       4     0      True  03 28, 2014             JJM   \n",
       "\n",
       "                                          reviewText  \\\n",
       "0                             great read every issue   \n",
       "1  magazine great time technology magazine new st...   \n",
       "2  ive read maximum pc mpc many year article tech...   \n",
       "3  order magazine grandson then 7 go 30 wasis dep...   \n",
       "4  subscribed nook version year thoroughly enjoy ...   \n",
       "\n",
       "                                        summary  \n",
       "0                                    Five Stars  \n",
       "1                         Great While it lasted  \n",
       "2  For Both the Newbie and The Advanced PC User  \n",
       "3                                    Great Gift  \n",
       "4               Decent magazine at a good price  "
      ]
     },
     "execution_count": 3,
     "metadata": {},
     "output_type": "execute_result"
    }
   ],
   "source": [
    "df.head()"
   ]
  }
 ],
 "metadata": {
  "interpreter": {
   "hash": "e474b603fe5839d4745710349655bc5be977893896e43c7a2a726c18d7a8041b"
  },
  "kernelspec": {
   "display_name": "Python 3.9.7 ('amazon-sentiment-bPrk5E75-py3.9')",
   "language": "python",
   "name": "python3"
  },
  "language_info": {
   "codemirror_mode": {
    "name": "ipython",
    "version": 3
   },
   "file_extension": ".py",
   "mimetype": "text/x-python",
   "name": "python",
   "nbconvert_exporter": "python",
   "pygments_lexer": "ipython3",
   "version": "3.10.4"
  },
  "orig_nbformat": 4
 },
 "nbformat": 4,
 "nbformat_minor": 2
}
