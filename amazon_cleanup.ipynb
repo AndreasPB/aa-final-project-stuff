{
 "cells": [
  {
   "cell_type": "code",
   "execution_count": null,
   "outputs": [],
   "source": [
    "import pandas as pd\n",
    "import nltk \n",
    "nltk.download('stopwords')\n",
    "from nltk.corpus import stopwords, wordnet\n",
    "from nltk.tokenize import WhitespaceTokenizer\n",
    "from nltk.stem.wordnet import WordNetLemmatizer\n",
    "nltk.download('wordnet')\n",
    "nltk.download('omw-1.4')\n",
    "nltk.download('averaged_perceptron_tagger')\n",
    "import json\n",
    "import gzip"
   ],
   "metadata": {
    "collapsed": false,
    "pycharm": {
     "name": "#%%\n"
    }
   }
  },
  {
   "cell_type": "code",
   "execution_count": null,
   "outputs": [],
   "source": [
    "def parse(path):\n",
    "  g = gzip.open(path, 'rb')\n",
    "  for l in g:\n",
    "    yield json.loads(l)\n",
    "\n",
    "def getDF(path):\n",
    "  i = 0\n",
    "  df = {}\n",
    "  for d in parse(path):\n",
    "    df[i] = d\n",
    "    i += 1\n",
    "  return pd.DataFrame.from_dict(df, orient='index')\n",
    "\n",
    "df = getDF('Magazine_Subscriptions.json.gz')\n"
   ],
   "metadata": {
    "collapsed": false,
    "pycharm": {
     "name": "#%%\n"
    }
   }
  },
  {
   "cell_type": "code",
   "execution_count": null,
   "outputs": [],
   "source": [
    "\n",
    "# Data cleanup\n",
    "\n",
    "# lowercase review text\n",
    "df[\"reviewText\"] = df[\"reviewText\"].str.lower()\n",
    "# remove unverified\n",
    "df = df[df[\"verified\"] == True]\n",
    "# remove unixReviewTime\n",
    "df.drop([\"unixReviewTime\",\"reviewerID\", \"image\", \"style\", \"asin\"], axis=1, inplace=True)\n",
    "\n",
    "# rename overall to rating\n",
    "df.rename(columns = {\"overall\": \"rating\"}, inplace=True)\n",
    "\n",
    "# set votes containing NaN to 0\n",
    "df[\"vote\"] = df[\"vote\"].fillna(0)\n",
    "# overall to int from float\n",
    "df[\"rating\"] = df[\"rating\"].astype(int)\n",
    "# remove NaN reviewText\n",
    "df[\"reviewText\"] = df[\"reviewText\"].fillna(\"\")\n",
    "\n",
    "# remove stop words\n",
    "stop_words = stopwords.words(\"english\")\n",
    "df[\"reviewText\"] = df[\"reviewText\"].apply(lambda x: ' '.join([word for word in x.split() if word not in stop_words]))\n",
    "\n",
    "# remove punctuation from reviewText\n",
    "# [^\\w\\s]' -> looks for anything that isnt a word or whitespace to remove\n",
    "df[\"reviewText\"] = df[\"reviewText\"].str.replace('[^\\w\\s]',\"\")\n",
    "\n",
    "w_tokenizer = WhitespaceTokenizer()\n",
    "lemmatizer = WordNetLemmatizer()\n",
    "\n",
    "\n",
    "# WordNetLemmatizer.lemmatize() only lemmatizes based on tag-parameter given, e.g. \"v\" for verb, \"n\" for noun\n",
    "# This method tries to determine the right tag automatically\n",
    "def get_wordnet_pos(word):\n",
    "    tag = nltk.pos_tag([word])[0][1][0].upper()\n",
    "    tag_dict = {\"J\": wordnet.ADJ,\n",
    "                \"N\": wordnet.NOUN,\n",
    "                \"V\": wordnet.VERB,\n",
    "                \"R\": wordnet.ADV}\n",
    "\n",
    "    return tag_dict.get(tag, wordnet.NOUN)\n",
    "\n",
    "\n",
    "def lemmatize_text(text):\n",
    "    return [lemmatizer.lemmatize(w, get_wordnet_pos(w)) for w in w_tokenizer.tokenize(text)]\n",
    "\n",
    "\n",
    "df[\"reviewText\"] = df[\"reviewText\"].apply(lemmatize_text)\n",
    "df['reviewText'] = df['reviewText'].apply(lambda x: \" \".join(x))\n",
    "\n",
    "df.to_csv(\"magazine_reviews_cleanup.tsv\", index=False, sep=\"\\t\")\n"
   ],
   "metadata": {
    "collapsed": false,
    "pycharm": {
     "name": "#%%\n"
    }
   }
  }
 ],
 "metadata": {
  "anaconda-cloud": {},
  "kernelspec": {
   "display_name": "Python 3",
   "language": "python",
   "name": "python3"
  },
  "language_info": {
   "codemirror_mode": {
    "name": "ipython",
    "version": 3
   },
   "file_extension": ".py",
   "mimetype": "text/x-python",
   "name": "python",
   "nbconvert_exporter": "python",
   "pygments_lexer": "ipython3",
   "version": "3.6.1"
  }
 },
 "nbformat": 4,
 "nbformat_minor": 4
}